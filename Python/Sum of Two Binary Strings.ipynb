{
 "cells": [
  {
   "cell_type": "markdown",
   "metadata": {},
   "source": [
    "## Google Coding Interview"
   ]
  },
  {
   "cell_type": "markdown",
   "metadata": {},
   "source": [
    "#### Given two binary strings, return their sum(also a binary string). The input strings are both non-empty and contains only characters 1 or 0."
   ]
  },
  {
   "cell_type": "markdown",
   "metadata": {},
   "source": [
    "Input: a = \"11\", b = \"1\"\n",
    "Output: \"100\""
   ]
  },
  {
   "cell_type": "markdown",
   "metadata": {},
   "source": [
    "Input: a = \"1010\", b = \"1011\"\n",
    "Output: \"10101\""
   ]
  },
  {
   "cell_type": "code",
   "execution_count": 2,
   "metadata": {},
   "outputs": [],
   "source": [
    "a = \"11\"\n",
    "b = \"1\"\n",
    "c = \"1010\"\n",
    "d = \"11\"\n",
    "e = \"100101\"\n",
    "f = \"10101\""
   ]
  },
  {
   "cell_type": "code",
   "execution_count": 3,
   "metadata": {},
   "outputs": [
    {
     "name": "stdout",
     "output_type": "stream",
     "text": [
      "100\n",
      "1101\n",
      "111010\n"
     ]
    }
   ],
   "source": [
    "def biNary(a,b):\n",
    "    if len(a) > len(b):\n",
    "        length = len(a)\n",
    "    else:\n",
    "        length = len(b)\n",
    "    lst = [a,b]\n",
    "    lst = ['0' * (length - len(i)) + i for i in lst]\n",
    "    a = lst[0]\n",
    "    b = lst[1]\n",
    "    res = \"\"\n",
    "    carry = 0\n",
    "    for x in range(length-1, -1, -1):\n",
    "        temp =  int(a[x]) + int(b[x]) + carry\n",
    "        if temp == 0 or temp ==1:\n",
    "            carry =0\n",
    "            res = res + str(temp)\n",
    "        elif temp > 1:\n",
    "            carry = 1\n",
    "            temp =0\n",
    "            res = res + str(temp)\n",
    "    if carry ==0:\n",
    "        pass\n",
    "    else:\n",
    "        res = res + str(1)\n",
    "    return res[::-1]\n",
    "\n",
    "print(biNary(a,b))\n",
    "print(biNary(c,d))\n",
    "print(biNary(e,f))"
   ]
  },
  {
   "cell_type": "code",
   "execution_count": null,
   "metadata": {},
   "outputs": [],
   "source": []
  },
  {
   "cell_type": "code",
   "execution_count": null,
   "metadata": {},
   "outputs": [],
   "source": []
  },
  {
   "cell_type": "code",
   "execution_count": null,
   "metadata": {},
   "outputs": [],
   "source": []
  },
  {
   "cell_type": "code",
   "execution_count": null,
   "metadata": {},
   "outputs": [],
   "source": []
  },
  {
   "cell_type": "code",
   "execution_count": null,
   "metadata": {},
   "outputs": [],
   "source": []
  },
  {
   "cell_type": "code",
   "execution_count": null,
   "metadata": {},
   "outputs": [],
   "source": []
  },
  {
   "cell_type": "code",
   "execution_count": null,
   "metadata": {},
   "outputs": [],
   "source": []
  },
  {
   "cell_type": "code",
   "execution_count": null,
   "metadata": {},
   "outputs": [],
   "source": []
  },
  {
   "cell_type": "code",
   "execution_count": null,
   "metadata": {},
   "outputs": [],
   "source": []
  }
 ],
 "metadata": {
  "kernelspec": {
   "display_name": "Python 3",
   "language": "python",
   "name": "python3"
  },
  "language_info": {
   "codemirror_mode": {
    "name": "ipython",
    "version": 3
   },
   "file_extension": ".py",
   "mimetype": "text/x-python",
   "name": "python",
   "nbconvert_exporter": "python",
   "pygments_lexer": "ipython3",
   "version": "3.8.3"
  }
 },
 "nbformat": 4,
 "nbformat_minor": 4
}
